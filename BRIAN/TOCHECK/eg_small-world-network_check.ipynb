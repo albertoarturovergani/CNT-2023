{
 "cells": [
  {
   "cell_type": "markdown",
   "metadata": {},
   "source": [
    "# 1D small world network\n",
    "\n",
    "http://www.scholarpedia.org/article/Small-world_network <br>\n",
    "https://en.wikipedia.org/wiki/Network_science"
   ]
  },
  {
   "cell_type": "code",
   "execution_count": 1,
   "metadata": {},
   "outputs": [],
   "source": [
    "# fileName\n",
    "\n",
    "fileName = 'eg_small-world_network'"
   ]
  },
  {
   "cell_type": "code",
   "execution_count": 2,
   "metadata": {},
   "outputs": [],
   "source": [
    "# libs\n",
    "\n",
    "import pyNN.brian2 as sim\n",
    "from pyNN import space \n",
    "import numpy as np\n",
    "import matplotlib.pyplot as plt\n"
   ]
  },
  {
   "cell_type": "code",
   "execution_count": 3,
   "metadata": {},
   "outputs": [],
   "source": [
    "# simulation settings\n",
    "\n",
    "sim.setup(\n",
    "        timestep=1, # [ms]\n",
    "        min_delay=1, # [ms]\n",
    "        max_delay=100) # [ms]\n",
    "\n",
    "simtime = 250 # [ms]\n"
   ]
  },
  {
   "cell_type": "code",
   "execution_count": 4,
   "metadata": {},
   "outputs": [],
   "source": [
    "# make the network\n",
    "\n",
    "pops = {}\n",
    "n_pops = {}\n",
    "model_pops = {}\n",
    "\n",
    "model_pops['cx'] = sim.IF_cond_exp\n",
    "n_pops['cx'] = 100\n",
    "v_init = sim.RandomDistribution('normal', (-65, 2))\n",
    "\n",
    "pops['cx'] = sim.Population(\n",
    "                            n_pops['cx'],\n",
    "                            model_pops['cx'] ,\n",
    "                            cellparams=sim.IF_cond_exp.default_parameters,\n",
    "                            structure = space.Line(dx=1.0, x0=0.0, y=0.0, z=0.0),\n",
    "                            initial_values = {'v' : v_init},\n",
    "                            label=None,\n",
    "                            #constraints=None,\n",
    "                            #additional_parameters=None,\n",
    "                            )\n"
   ]
  },
  {
   "cell_type": "code",
   "execution_count": 5,
   "metadata": {},
   "outputs": [],
   "source": [
    "# make the connections \n",
    "\n",
    "# the region length where nodes will be connected locally.\n",
    "degree = {'exc': 1.5,\n",
    "          'inh': 1.5         \n",
    "         }\n",
    "\n",
    "# the probability of rewiring each edge.\n",
    "rewiring = {'exc': 0.01,\n",
    "            'inh': 0.01         \n",
    "           }\n",
    " \n",
    "# if specified, the number of efferent synaptic connections per neuron.\n",
    "n_connections = {'exc': None,\n",
    "                 'inh': None} \n",
    "\n",
    "conns = {}\n",
    "for value in ['exc', 'inh']:\n",
    "    conns['cx', 'cx', value] = sim.SmallWorldConnector(\n",
    "                                                degree[value], \n",
    "                                                rewiring[value], \n",
    "                                                allow_self_connections=True,\n",
    "                                                safe=True,\n",
    "                                                #verbose=True,\n",
    "                                                n_connections = n_connections[value], \n",
    "                                                        )\n",
    "\n",
    "\n",
    "\n"
   ]
  },
  {
   "cell_type": "code",
   "execution_count": 6,
   "metadata": {},
   "outputs": [],
   "source": [
    "# make the synapses\n",
    "\n",
    "synapses = {}\n",
    "\n",
    "delay = sim.RandomDistribution(\"normal_clipped\", mu=1.5, sigma=1.75, low=0.1, high=100)\n",
    "\n",
    "synapses['cx', 'cx', 'exc'] = sim.StaticSynapse(weight=0.1, delay=delay)\n",
    "synapses['cx', 'cx', 'inh'] = sim.StaticSynapse(weight=0.5, delay=delay)\n",
    "synapses['thal', 'cx'] = sim.StaticSynapse(weight=0.1, delay=1)\n"
   ]
  },
  {
   "cell_type": "code",
   "execution_count": 7,
   "metadata": {},
   "outputs": [
    {
     "data": {
      "text/plain": [
       "array([40, 41, 42, 43, 44, 45, 46, 47, 48, 49, 50, 51, 52, 53, 54, 55, 56,\n",
       "       57, 58, 59])"
      ]
     },
     "execution_count": 7,
     "metadata": {},
     "output_type": "execute_result"
    },
    {
     "data": {
      "image/png": "[encoded data removed]",
      "text/plain": [
       "<Figure size 432x288 with 1 Axes>"
      ]
     },
     "metadata": {
      "needs_background": "light"
     },
     "output_type": "display_data"
    }
   ],
   "source": [
    "# make the thalamic input sources\n",
    "\n",
    "n_pops['thal'] = n_pops['cx']\n",
    "\n",
    "spike_times = [[]]*n_pops['thal'] #list of spike lists, where one spike list is related to one spike source\n",
    "\n",
    "random_sources_idx = np.arange(int(n_pops['thal']*0.40), int(n_pops['thal']*0.60)) #[0,1,2]\n",
    "\n",
    "for idx, sources in enumerate(random_sources_idx):\n",
    "    spike_times[sources] = np.sort([abs(np.random.normal(loc=50, scale=10)) for n in range(5)])\n",
    "\n",
    "model_pops['thal'] = sim.SpikeSourceArray(spike_times=spike_times)\n",
    "\n",
    "pops['thal'] = sim.Population(n_pops['thal'], \n",
    "                              model_pops['thal'])\n",
    "\n",
    "\n",
    "fig, axes = plt.subplots(1,1)\n",
    "axes_list = fig.axes\n",
    "axes_list[0].eventplot(spike_times)\n",
    "axes_list[0].set_xlabel('[ms]')\n",
    "axes_list[0].set_ylabel('thalamic spike sources')\n",
    "axes_list[0].set_title('rasterplot of spike sources')\n",
    "axes_list[0].set_xlim(0, simtime)\n",
    "\n",
    "random_sources_idx"
   ]
  },
  {
   "cell_type": "code",
   "execution_count": 8,
   "metadata": {},
   "outputs": [
    {
     "ename": "NotImplementedError",
     "evalue": "",
     "output_type": "error",
     "traceback": [
      "\u001b[0;31m---------------------------------------------------------------------------\u001b[0m",
      "\u001b[0;31mNotImplementedError\u001b[0m                       Traceback (most recent call last)",
      "\u001b[0;32m<ipython-input-8-c104594bccfb>\u001b[0m in \u001b[0;36m<module>\u001b[0;34m\u001b[0m\n\u001b[1;32m     15\u001b[0m                                          \u001b[0msynapse_type\u001b[0m \u001b[0;34m=\u001b[0m \u001b[0msynapses\u001b[0m\u001b[0;34m[\u001b[0m\u001b[0;34m'cx'\u001b[0m\u001b[0;34m,\u001b[0m \u001b[0;34m'cx'\u001b[0m\u001b[0;34m,\u001b[0m \u001b[0;34m'exc'\u001b[0m\u001b[0;34m]\u001b[0m\u001b[0;34m,\u001b[0m\u001b[0;34m\u001b[0m\u001b[0;34m\u001b[0m\u001b[0m\n\u001b[1;32m     16\u001b[0m                                          \u001b[0;31m#space = sim.Space(axes='x', periodic_boundaries=((0,500), None, None)),\u001b[0m\u001b[0;34m\u001b[0m\u001b[0;34m\u001b[0m\u001b[0;34m\u001b[0m\u001b[0m\n\u001b[0;32m---> 17\u001b[0;31m                                          receptor_type = 'excitatory')\n\u001b[0m\u001b[1;32m     18\u001b[0m \u001b[0;34m\u001b[0m\u001b[0m\n\u001b[1;32m     19\u001b[0m projs['cx', 'cx', 'inh'] = sim.Projection(pops['cx'], \n",
      "\u001b[0;32m~/anaconda3/lib/python3.7/site-packages/pyNN/brian2/projections.py\u001b[0m in \u001b[0;36m__init__\u001b[0;34m(self, presynaptic_population, postsynaptic_population, connector, synapse_type, source, receptor_type, space, label)\u001b[0m\n\u001b[1;32m    138\u001b[0m                 \u001b[0msimulator\u001b[0m\u001b[0;34m.\u001b[0m\u001b[0mstate\u001b[0m\u001b[0;34m.\u001b[0m\u001b[0mnetwork\u001b[0m\u001b[0;34m.\u001b[0m\u001b[0madd\u001b[0m\u001b[0;34m(\u001b[0m\u001b[0msyn_obj\u001b[0m\u001b[0;34m)\u001b[0m\u001b[0;34m\u001b[0m\u001b[0;34m\u001b[0m\u001b[0m\n\u001b[1;32m    139\u001b[0m         \u001b[0;31m# connect the populations\u001b[0m\u001b[0;34m\u001b[0m\u001b[0;34m\u001b[0m\u001b[0;34m\u001b[0m\u001b[0m\n\u001b[0;32m--> 140\u001b[0;31m         \u001b[0mconnector\u001b[0m\u001b[0;34m.\u001b[0m\u001b[0mconnect\u001b[0m\u001b[0;34m(\u001b[0m\u001b[0mself\u001b[0m\u001b[0;34m)\u001b[0m\u001b[0;34m\u001b[0m\u001b[0;34m\u001b[0m\u001b[0m\n\u001b[0m\u001b[1;32m    141\u001b[0m         \u001b[0;31m# special-case: the Tsodyks-Markram short-term plasticity model takes\u001b[0m\u001b[0;34m\u001b[0m\u001b[0;34m\u001b[0m\u001b[0;34m\u001b[0m\u001b[0m\n\u001b[1;32m    142\u001b[0m         \u001b[0;31m#               a parameter value from the post-synaptic response model\u001b[0m\u001b[0;34m\u001b[0m\u001b[0;34m\u001b[0m\u001b[0;34m\u001b[0m\u001b[0m\n",
      "\u001b[0;32m~/anaconda3/lib/python3.7/site-packages/pyNN/connectors.py\u001b[0m in \u001b[0;36mconnect\u001b[0;34m(self, projection)\u001b[0m\n\u001b[1;32m    925\u001b[0m     \u001b[0;32mdef\u001b[0m \u001b[0mconnect\u001b[0m\u001b[0;34m(\u001b[0m\u001b[0mself\u001b[0m\u001b[0;34m,\u001b[0m \u001b[0mprojection\u001b[0m\u001b[0;34m)\u001b[0m\u001b[0;34m:\u001b[0m\u001b[0;34m\u001b[0m\u001b[0;34m\u001b[0m\u001b[0m\n\u001b[1;32m    926\u001b[0m         \u001b[0;34m\"\"\"Connect-up a Projection.\"\"\"\u001b[0m\u001b[0;34m\u001b[0m\u001b[0;34m\u001b[0m\u001b[0m\n\u001b[0;32m--> 927\u001b[0;31m         \u001b[0;32mraise\u001b[0m \u001b[0mNotImplementedError\u001b[0m\u001b[0;34m\u001b[0m\u001b[0;34m\u001b[0m\u001b[0m\n\u001b[0m\u001b[1;32m    928\u001b[0m \u001b[0;34m\u001b[0m\u001b[0m\n\u001b[1;32m    929\u001b[0m \u001b[0;34m\u001b[0m\u001b[0m\n",
      "\u001b[0;31mNotImplementedError\u001b[0m: "
     ]
    }
   ],
   "source": [
    "# make the projections\n",
    "\n",
    "projs = {}\n",
    "\n",
    "projs['thal', 'cx'] = sim.Projection(pops['thal'], \n",
    "                                    pops['cx'],\n",
    "                                    connector = sim.OneToOneConnector(),\n",
    "                                    synapse_type = synapses['thal', 'cx'],\n",
    "                                    #space = sim.Space(axes='x', periodic_boundaries=((0,500), None, None)),\n",
    "                                    receptor_type = 'excitatory')\n",
    "\n",
    "projs['cx', 'cx', 'exc'] = sim.Projection(pops['cx'], \n",
    "                                         pops['cx'],\n",
    "                                         connector = conns['cx', 'cx', 'exc'],\n",
    "                                         synapse_type = synapses['cx', 'cx', 'exc'],\n",
    "                                         #space = sim.Space(axes='x', periodic_boundaries=((0,500), None, None)),\n",
    "                                         receptor_type = 'excitatory')\n",
    "\n",
    "projs['cx', 'cx', 'inh'] = sim.Projection(pops['cx'], \n",
    "                                         pops['cx'],\n",
    "                                         connector = conns['cx', 'cx', 'inh'],\n",
    "                                         synapse_type = synapses['cx', 'cx', 'inh'],\n",
    "                                         #space = sim.Space(axes='x', periodic_boundaries=((0,500), None, None)),\n",
    "                                         receptor_type = 'inhibitory')"
   ]
  },
  {
   "cell_type": "code",
   "execution_count": null,
   "metadata": {},
   "outputs": [],
   "source": [
    "# record state variables\n",
    "\n",
    "pops['cx'].record(['spikes','v','gsyn_exc','gsyn_inh'])   \n",
    "\n",
    "pops['thal'].record(['spikes'])\n"
   ]
  },
  {
   "cell_type": "code",
   "execution_count": null,
   "metadata": {},
   "outputs": [],
   "source": [
    "# run simulation\n",
    "\n",
    "sim.run(simtime) "
   ]
  },
  {
   "cell_type": "code",
   "execution_count": null,
   "metadata": {},
   "outputs": [],
   "source": [
    "# save the results\n",
    "\n",
    "outputs = {}\n",
    "\n",
    "outputs['cx'] = pops['cx'].get_data()\n",
    "for recording in ['v', 'gsyn_inh', 'gsyn_exc', 'spikes']:\n",
    "    pops['cx'].write_data(fileName + '_' + str(recording) + '.pkl')\n",
    "\n",
    "outputs['thal'] = pops['thal'].get_data()\n",
    "for recording in ['spikes']:\n",
    "    pops['thal'].write_data(fileName + '_' + str(recording) + '.pkl')\n"
   ]
  },
  {
   "cell_type": "code",
   "execution_count": null,
   "metadata": {},
   "outputs": [],
   "source": [
    "# recover results function\n",
    "\n",
    "def recover_results(outputs):\n",
    "    results = {}\n",
    "    for key in outputs.keys(): # to extract the name of the layer, e.g., Exc, Inh, Thalamus, etc  \n",
    "        \n",
    "        # to get voltage and conductances\n",
    "        for analogsignal in outputs[key].segments[0].analogsignals:\n",
    "            print(analogsignal.name)\n",
    "            results[key, analogsignal.name] = analogsignal\n",
    "\n",
    "        # to get spikes\n",
    "        results[key, 'spikes'] = outputs[key].segments[0].spiketrains\n",
    "    return results\n"
   ]
  },
  {
   "cell_type": "code",
   "execution_count": null,
   "metadata": {},
   "outputs": [],
   "source": [
    "# recover results\n",
    "\n",
    "results = recover_results(outputs)\n",
    "results.keys()"
   ]
  },
  {
   "cell_type": "code",
   "execution_count": null,
   "metadata": {},
   "outputs": [],
   "source": [
    "# check the spikes\n",
    "\n",
    "fig, axes = plt.subplots(2,1, figsize=(9,9))\n",
    "fig.tight_layout(pad=5)\n",
    "axes_list = fig.axes\n",
    "\n",
    "for idx, value in enumerate(['thal', 'cx']):\n",
    "    axes_list[idx].eventplot(results[value, 'spikes'])\n",
    "    axes_list[idx].set_title('rasterplot of ' + str(value) + ' layer')\n",
    "    axes_list[idx].set_xlabel('[ms]')\n",
    "    axes_list[idx].set_ylabel('cells')\n",
    "    axes_list[idx].set_xlim(0, simtime)\n",
    "\n"
   ]
  },
  {
   "cell_type": "code",
   "execution_count": null,
   "metadata": {},
   "outputs": [],
   "source": [
    "# check the voltage\n",
    "\n",
    "fig, axes = plt.subplots(1, 1, figsize=(9,5))\n",
    "fig.tight_layout(pad=4)\n",
    "\n",
    "axes_list = fig.axes\n",
    "\n",
    "for idx, value in enumerate(['cx']):\n",
    "    im = axes_list[idx].imshow(results[value, 'v'].T)\n",
    "    axes_list[idx].set_title('voltage of ' + str(value) + ' layer')\n",
    "    axes_list[idx].set_xlabel('time [ms]')\n",
    "    axes_list[idx].set_ylabel('cells')\n",
    "    fig.colorbar(im, ax=axes_list[idx], fraction=0.010, label='[mV]')\n",
    "\n"
   ]
  },
  {
   "cell_type": "code",
   "execution_count": null,
   "metadata": {},
   "outputs": [],
   "source": [
    "# check the conductances\n",
    "\n",
    "for layer in ['cx']:\n",
    "    fig, axes = plt.subplots(2, 1, figsize=(9,9))\n",
    "    fig.tight_layout(pad=4)\n",
    "    fig.suptitle(str(layer) + ' layer')\n",
    "    axes_list = fig.axes\n",
    "    \n",
    "    for idx, gsyn in enumerate(['gsyn_exc', 'gsyn_inh']):\n",
    "        im = axes_list[idx].imshow(results[layer, gsyn].T)\n",
    "        axes_list[idx].set_title(str(gsyn))\n",
    "        axes_list[idx].set_xlabel('time [ms]')\n",
    "        axes_list[idx].set_ylabel('cells')\n",
    "        fig.colorbar(im, ax=axes_list[idx], fraction=0.010, label='[uS]')\n"
   ]
  },
  {
   "cell_type": "markdown",
   "metadata": {},
   "source": [
    "# check adjacent matrix"
   ]
  },
  {
   "cell_type": "code",
   "execution_count": null,
   "metadata": {},
   "outputs": [],
   "source": [
    "# check the small world projections\n",
    "\n",
    "projs.keys()"
   ]
  },
  {
   "cell_type": "code",
   "execution_count": null,
   "metadata": {},
   "outputs": [],
   "source": [
    "syn = {}\n",
    "\n",
    "syn['exc'] = projs['cx', 'cx', 'exc'].get('source', 'target', 'list')\n",
    "syn['inh'] = projs['cx', 'cx', 'inh'].get('source', 'target', 'list')\n",
    "\n"
   ]
  },
  {
   "cell_type": "code",
   "execution_count": null,
   "metadata": {},
   "outputs": [],
   "source": [
    "syn['exc']"
   ]
  },
  {
   "cell_type": "code",
   "execution_count": null,
   "metadata": {},
   "outputs": [],
   "source": [
    "syn['inh']"
   ]
  },
  {
   "cell_type": "code",
   "execution_count": null,
   "metadata": {},
   "outputs": [],
   "source": [
    "# end simulation\n",
    "\n",
    "sim.end()"
   ]
  },
  {
   "cell_type": "markdown",
   "metadata": {},
   "source": [
    "# Task1: on the small-world network\n",
    "- try to find in literature a 1D small-world network and use its parameter \n"
   ]
  },
  {
   "cell_type": "code",
   "execution_count": null,
   "metadata": {},
   "outputs": [],
   "source": []
  }
 ],
 "metadata": {
  "kernelspec": {
   "display_name": "Python 3",
   "language": "python",
   "name": "python3"
  },
  "language_info": {
   "codemirror_mode": {
    "name": "ipython",
    "version": 3
   },
   "file_extension": ".py",
   "mimetype": "text/x-python",
   "name": "python",
   "nbconvert_exporter": "python",
   "pygments_lexer": "ipython3",
   "version": "3.7.6"
  }
 },
 "nbformat": 4,
 "nbformat_minor": 4
}
