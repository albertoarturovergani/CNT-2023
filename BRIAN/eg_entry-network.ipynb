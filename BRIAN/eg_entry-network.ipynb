{
 "cells": [
  {
   "cell_type": "markdown",
   "metadata": {},
   "source": [
    "# entry network\n",
    "\n",
    "- a network of 20 cells receiving 5 random thalamic inputs"
   ]
  },
  {
   "cell_type": "code",
   "execution_count": 8,
   "metadata": {},
   "outputs": [],
   "source": [
    "# set fileName\n",
    "\n",
    "fileName = \"eg_entry-network\""
   ]
  },
  {
   "cell_type": "code",
   "execution_count": 9,
   "metadata": {},
   "outputs": [],
   "source": [
    "# set libs\n",
    "\n",
    "import pyNN.brian2 as sim\n",
    "from pyNN import space \n",
    "import numpy as np\n",
    "import matplotlib.pyplot as plt"
   ]
  },
  {
   "cell_type": "code",
   "execution_count": 10,
   "metadata": {},
   "outputs": [
    {
     "data": {
      "text/plain": [
       "0"
      ]
     },
     "execution_count": 10,
     "metadata": {},
     "output_type": "execute_result"
    }
   ],
   "source": [
    "# simulation setting\n",
    "\n",
    "dt         = 1 # ms\n",
    "min_delay = 1 # ms\n",
    "max_delay  = 1.0 # ms\n",
    "simtime    = 1000.0 # ms\n",
    "\n",
    "sim.setup(timestep = dt, \n",
    "          min_dealy = min_delay,\n",
    "          max_delay = max_delay)"
   ]
  },
  {
   "cell_type": "code",
   "execution_count": 11,
   "metadata": {},
   "outputs": [],
   "source": [
    "# network parameters\n",
    "\n",
    "n_pop = 20     # Number of cells\n",
    "weight = 0.05  # synaptic weight (µS)\n",
    "\n",
    "cell_params = {\n",
    "    'tau_m'      : 20.0,   # (ms)\n",
    "    'tau_syn_E'  : 2.0,    # (ms)\n",
    "    'tau_syn_I'  : 4.0,    # (ms)\n",
    "    'e_rev_E'    : 0.0,    # (mV)\n",
    "    'e_rev_I'    : -70.0,  # (mV)\n",
    "    'tau_refrac' : 2.0,    # (ms)\n",
    "    'v_rest'     : -60.0,  # (mV)\n",
    "    'v_reset'    : -70.0,  # (mV)\n",
    "    'v_thresh'   : -50.0,  # (mV)\n",
    "    'cm'         : 0.5}    # (nF)\n",
    "\n",
    "# see parameters meaning in http://neuralensemble.org/docs/PyNN/standardmodels.html"
   ]
  },
  {
   "cell_type": "code",
   "execution_count": 12,
   "metadata": {},
   "outputs": [],
   "source": [
    "# making the network\n",
    "pops = {}\n",
    "pops['cx'] = sim.Population(n_pop, # number of cells\n",
    "                       sim.IF_cond_exp, # cell model\n",
    "                       cell_params, # cell parameters\n",
    "                       label=\"cells\")\n",
    "\n",
    "# record state variables\n",
    "\n",
    "pops['cx'].record(['spikes'])\n",
    "pops['cx'].record(['v', 'gsyn_exc', 'gsyn_inh'])"
   ]
  },
  {
   "cell_type": "code",
   "execution_count": 13,
   "metadata": {},
   "outputs": [
    {
     "name": "stdout",
     "output_type": "stream",
     "text": [
      "selected random sources [1, 6, 11, 17, 19]\n"
     ]
    },
    {
     "data": {
      "image/png": "[encoded data removed]",
      "text/plain": [
       "<Figure size 432x288 with 1 Axes>"
      ]
     },
     "metadata": {
      "needs_background": "light"
     },
     "output_type": "display_data"
    }
   ],
   "source": [
    "# designing the thalamic input\n",
    "\n",
    "spike_times = [[]]*n_pop #list of spike lists, where one spike list is related to one spike source\n",
    "random_sources_idx = [np.random.randint(0, n_pop) for i in range(5)]\n",
    "\n",
    "for idx, sources in enumerate(random_sources_idx):\n",
    "    #spike_times[sources] = [np.random.normal(loc=10, scale=0.1) for n in range(10)]\n",
    "    spike_times[sources] = np.sort(np.arange(200, 800, 50).tolist())\n",
    "\n",
    "    \n",
    "pops['thalamus'] = sim.Population(n_pop, sim.SpikeSourceArray(spike_times=spike_times))\n",
    "pops['thalamus'].record('spikes')\n",
    "\n",
    "input_conns = sim.Projection(pops['thalamus'], # from \n",
    "                             pops['cx'], # to\n",
    "                             connector = sim.FixedProbabilityConnector(0.5), \n",
    "                             synapse_type = sim.StaticSynapse(weight=weight, delay=min_delay),\n",
    "                             receptor_type = 'excitatory')\n",
    "\n",
    "fig, axes = plt.subplots(1,1)\n",
    "axes_list = fig.axes\n",
    "axes_list[0].eventplot(spike_times)\n",
    "axes_list[0].set_xlabel('[ms]')\n",
    "axes_list[0].set_ylabel('thalamic spike sources')\n",
    "axes_list[0].set_title('rasterplot')\n",
    "axes_list[0].set_xlim(0, simtime)\n",
    "print('selected random sources', random_sources_idx)\n"
   ]
  },
  {
   "cell_type": "code",
   "execution_count": 14,
   "metadata": {},
   "outputs": [
    {
     "name": "stderr",
     "output_type": "stream",
     "text": [
      "INFO       No numerical integration method specified for group 'neurongroup_1', using method 'euler' (took 0.04s, trying other methods took 0.25s). [brian2.stateupdaters.base.method_choice]\n",
      "WARNING    Note that the synaptic pathway 'synapses_1_pre' will run on the clock of the group 'spikegeneratorgroup_1' using a dt of 100. us. Either the Synapses object 'synapses_1' or the target 'neurongroup_1' (or both) are using a different dt. This might lead to unexpected results. In particular, all delays will be rounded to multiples of 100. us. If in doubt, try to ensure that 'spikegeneratorgroup_1', 'synapses_1', and 'neurongroup_1' use the same dt. [brian2.synapses.synapses.synapses_dt_mismatch]\n"
     ]
    },
    {
     "data": {
      "text/plain": [
       "'\\na network of 20 cells receiving 5 random thalamic inputs\\n\\n'"
      ]
     },
     "execution_count": 14,
     "metadata": {},
     "output_type": "execute_result"
    }
   ],
   "source": [
    "# run simulation\n",
    "\n",
    "sim.run(simtime) # 1000 ms\n",
    "\n",
    "\n",
    "\"\"\"\n",
    "a network of 20 cells receiving 5 random thalamic inputs\n",
    "\n",
    "\"\"\""
   ]
  },
  {
   "cell_type": "code",
   "execution_count": 15,
   "metadata": {},
   "outputs": [],
   "source": [
    "# save the results\n",
    "\n",
    "outputs = {}\n",
    "\n",
    "outputs['cx'] = pops['cx'].get_data()\n",
    "for recording in ['v', 'gsyn_inh', 'gsyn_exc', 'spikes']:\n",
    "    pops['cx'].write_data(fileName + '_' + str(recording) + '.pkl')\n",
    "\n",
    "outputs['thal'] = pops['thalamus'].get_data()\n",
    "for recording in ['spikes']:\n",
    "    pops['thalamus'].write_data(fileName + '_' + str(recording) + '.pkl')\n"
   ]
  },
  {
   "cell_type": "code",
   "execution_count": 16,
   "metadata": {},
   "outputs": [],
   "source": [
    "# recover results function\n",
    "\n",
    "def recover_results(outputs):\n",
    "    results = {}\n",
    "    for key in outputs.keys(): # to extract the name of the layer, e.g., Exc, Inh, Thalamus, etc  \n",
    "        \n",
    "        # to get voltage and conductances\n",
    "        for analogsignal in outputs[key].segments[0].analogsignals:\n",
    "            print(analogsignal.name)\n",
    "            results[key, analogsignal.name] = analogsignal\n",
    "\n",
    "        # to get spikes\n",
    "        results[key, 'spikes'] = outputs[key].segments[0].spiketrains\n",
    "    return results"
   ]
  },
  {
   "cell_type": "code",
   "execution_count": 17,
   "metadata": {},
   "outputs": [
    {
     "name": "stdout",
     "output_type": "stream",
     "text": [
      "v\n",
      "gsyn_inh\n",
      "gsyn_exc\n"
     ]
    },
    {
     "data": {
      "text/plain": [
       "dict_keys([('cx', 'v'), ('cx', 'gsyn_inh'), ('cx', 'gsyn_exc'), ('cx', 'spikes'), ('thal', 'spikes')])"
      ]
     },
     "execution_count": 17,
     "metadata": {},
     "output_type": "execute_result"
    }
   ],
   "source": [
    "# check results\n",
    "\n",
    "results = recover_results(outputs)\n",
    "results.keys()"
   ]
  },
  {
   "cell_type": "code",
   "execution_count": 18,
   "metadata": {},
   "outputs": [
    {
     "name": "stdout",
     "output_type": "stream",
     "text": [
      "CX Mean firing rate:  10.2 Hz\n",
      "TH Mean firing rate:  3.0 Hz\n"
     ]
    }
   ],
   "source": [
    "# check the mean firing rate\n",
    "\n",
    "print(\"CX Mean firing rate: \", pops['cx'].mean_spike_count() * 1000.0 / simtime, \"Hz\")\n",
    "\n",
    "print(\"TH Mean firing rate: \", pops['thalamus'].mean_spike_count() * 1000.0 / simtime, \"Hz\")"
   ]
  },
  {
   "cell_type": "code",
   "execution_count": 19,
   "metadata": {},
   "outputs": [
    {
     "data": {
      "text/plain": [
       "(0, 1000.0)"
      ]
     },
     "execution_count": 19,
     "metadata": {},
     "output_type": "execute_result"
    },
    {
     "data": {
      "image/png": "[encoded data removed]",
      "text/plain": [
       "<Figure size 648x648 with 2 Axes>"
      ]
     },
     "metadata": {
      "needs_background": "light"
     },
     "output_type": "display_data"
    }
   ],
   "source": [
    "# check the spikes\n",
    "%matplotlib inline\n",
    "fig, axes = plt.subplots(2,1,figsize=(9,9))\n",
    "fig.tight_layout(pad=5)\n",
    "axes_list = fig.axes\n",
    "\n",
    "axes_list[0].eventplot(results['thal', 'spikes'], color='k', label='t')\n",
    "axes_list[0].set_title('rasterplot of thalamic cells')\n",
    "axes_list[1].set_title('rasterplot of cx cells')\n",
    "axes_list[1].eventplot(results['cx', 'spikes'], color='r', label='cx')\n",
    "\n",
    "\n",
    "axes_list[0].set_xlabel('[ms]')\n",
    "axes_list[0].set_ylabel('cells')\n",
    "axes_list[0].set_xlim(0, simtime)\n",
    "\n",
    "axes_list[1].set_xlabel('[ms]')\n",
    "axes_list[1].set_ylabel('cells')\n",
    "axes_list[1].set_xlim(0, simtime)\n",
    "\n"
   ]
  },
  {
   "cell_type": "code",
   "execution_count": 20,
   "metadata": {},
   "outputs": [
    {
     "data": {
      "text/plain": [
       "[1, 6, 11, 17, 19]"
      ]
     },
     "execution_count": 20,
     "metadata": {},
     "output_type": "execute_result"
    }
   ],
   "source": [
    "random_sources_idx"
   ]
  },
  {
   "cell_type": "code",
   "execution_count": 21,
   "metadata": {},
   "outputs": [
    {
     "data": {
      "text/plain": [
       "<matplotlib.legend.Legend at 0x7fed6f7b3a10>"
      ]
     },
     "execution_count": 21,
     "metadata": {},
     "output_type": "execute_result"
    },
    {
     "data": {
      "image/png": "[encoded data removed]",
      "text/plain": [
       "<Figure size 792x360 with 1 Axes>"
      ]
     },
     "metadata": {
      "needs_background": "light"
     },
     "output_type": "display_data"
    }
   ],
   "source": [
    "# check the voltage\n",
    "\n",
    "pickedCell = random_sources_idx[1]\n",
    "\n",
    "fig, axes = plt.subplots(1, 1, figsize=(11,5))\n",
    "fig.tight_layout(pad=3)\n",
    "\n",
    "axes_list = fig.axes\n",
    "axes_list[0].plot(results['cx', 'v'].T[pickedCell], label='cell_' + str(pickedCell))\n",
    "\n",
    "axes_list[0].set_title('voltage of cells')\n",
    "axes_list[0].set_xlabel('time [ms]')\n",
    "axes_list[0].set_ylabel('[mV]')\n",
    "axes_list[0].legend()\n"
   ]
  },
  {
   "cell_type": "code",
   "execution_count": 22,
   "metadata": {},
   "outputs": [
    {
     "data": {
      "image/png": "[encoded data removed]",
      "text/plain": [
       "<Figure size 792x360 with 2 Axes>"
      ]
     },
     "metadata": {
      "needs_background": "light"
     },
     "output_type": "display_data"
    }
   ],
   "source": [
    "# check the conductance\n",
    "\n",
    "pickedCell = random_sources_idx[1]\n",
    "\n",
    "fig, axes = plt.subplots(2, 1, figsize=(11,5))\n",
    "fig.tight_layout(pad=5)\n",
    "\n",
    "axes_list = fig.axes\n",
    "\n",
    "for idx, conductance in enumerate(['gsyn_exc', 'gsyn_inh']):\n",
    "\n",
    "    fig.tight_layout(pad=3)\n",
    "    axes_list = fig.axes\n",
    "    axes_list[idx].plot(results['cx', conductance].T[pickedCell], label='cell_' + str(pickedCell))\n",
    "    axes_list[idx].set_title(conductance)\n",
    "    axes_list[idx].set_xlabel('time [ms]')\n",
    "    axes_list[idx].set_ylabel('[uS]')\n",
    "    axes_list[idx].legend()"
   ]
  },
  {
   "cell_type": "markdown",
   "metadata": {},
   "source": [
    "## task 1: on the state variables \n",
    "\n",
    "- why the gsyn_inh (conductance related to cell inhibition) is equal to zero?"
   ]
  },
  {
   "cell_type": "markdown",
   "metadata": {},
   "source": [
    "## task 2: on neuronal parameters\n",
    "\n",
    "- change the tau_m (membrane time constant) parameter and have a look at the changes on the voltage trace.\n",
    "\n",
    "- change other neuronal parameters and investigate their effect on the network behaviour\n",
    "\n",
    "- info about parameters http://neuralensemble.org/docs/PyNN/standardmodels.html"
   ]
  },
  {
   "cell_type": "markdown",
   "metadata": {},
   "source": [
    "## task 3: on neuronal model\n",
    "\n",
    "- test another cell type looking at `sim.list_standard_models()`\n"
   ]
  },
  {
   "cell_type": "markdown",
   "metadata": {},
   "source": [
    "\n"
   ]
  },
  {
   "cell_type": "code",
   "execution_count": null,
   "metadata": {},
   "outputs": [],
   "source": []
  },
  {
   "cell_type": "code",
   "execution_count": null,
   "metadata": {},
   "outputs": [],
   "source": []
  }
 ],
 "metadata": {
  "kernelspec": {
   "display_name": "Python 3",
   "language": "python",
   "name": "python3"
  },
  "language_info": {
   "codemirror_mode": {
    "name": "ipython",
    "version": 3
   },
   "file_extension": ".py",
   "mimetype": "text/x-python",
   "name": "python",
   "nbconvert_exporter": "python",
   "pygments_lexer": "ipython3",
   "version": "3.7.6"
  }
 },
 "nbformat": 4,
 "nbformat_minor": 4
}
