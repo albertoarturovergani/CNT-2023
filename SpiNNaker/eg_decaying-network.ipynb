{
 "cells": [
  {
   "cell_type": "markdown",
   "metadata": {},
   "source": [
    "# Decaying network (parrot neurons)\n"
   ]
  },
  {
   "cell_type": "markdown",
   "metadata": {},
   "source": [
    "- a network of 100 excitatory cells without any recurrent connections and inhibitions"
   ]
  },
  {
   "cell_type": "code",
   "execution_count": 1,
   "metadata": {},
   "outputs": [],
   "source": [
    "# fileName\n",
    "\n",
    "fileName = 'eg_decaying-network' "
   ]
  },
  {
   "cell_type": "code",
   "execution_count": 2,
   "metadata": {},
   "outputs": [
    {
     "name": "stdout",
     "output_type": "stream",
     "text": [
      "Detected PyNN version 0.9.4 and Neo version 0.6.1\n"
     ]
    }
   ],
   "source": [
    "# libs\n",
    "%matplotlib inline\n",
    "import pyNN.spiNNaker as sim\n",
    "from pyNN import space \n",
    "import numpy as np\n",
    "import matplotlib.pyplot as plt\n"
   ]
  },
  {
   "cell_type": "code",
   "execution_count": 3,
   "metadata": {},
   "outputs": [
    {
     "name": "stderr",
     "output_type": "stream",
     "text": [
      "2023-03-17 09:57:58 INFO: Read cfg files: /home/spinnaker/sPyNNaker/lib/python3.6/site-packages/spinn_front_end_common/interface/spinnaker.cfg, /home/spinnaker/sPyNNaker/lib/python3.6/site-packages/spynnaker/pyNN/spynnaker.cfg, /home/spinnaker/.spynnaker.cfg\n",
      "2023-03-17 09:57:58 INFO: Will search these locations for binaries: /home/spinnaker/sPyNNaker/lib/python3.6/site-packages/spinn_front_end_common/common_model_binaries : /home/spinnaker/sPyNNaker/lib/python3.6/site-packages/spynnaker/pyNN/model_binaries\n",
      "2023-03-17 09:57:58 WARNING: /home/spinnaker/CNT-2023/SpiNNaker/reports has 37 old reports that have not been closed\n",
      "2023-03-17 09:57:58 WARNING: /home/spinnaker/CNT-2023/SpiNNaker/application_generated_data_files has 38 old reports that have not been closed\n",
      "2023-03-17 09:57:58 INFO: Setting time scale factor to 1.\n",
      "2023-03-17 09:57:58 INFO: Setting machine time step to 1000 micro-seconds.\n"
     ]
    },
    {
     "name": "stdout",
     "output_type": "stream",
     "text": [
      "['/home/spinnaker/sPyNNaker/lib/python3.6/site-packages/spinn_front_end_common/interface/spinnaker.cfg', '/home/spinnaker/sPyNNaker/lib/python3.6/site-packages/spynnaker/pyNN/spynnaker.cfg', '/home/spinnaker/.spynnaker.cfg']\n"
     ]
    }
   ],
   "source": [
    "# simulation settings\n",
    "\n",
    "sim.setup(\n",
    "        timestep=1, # [ms]\n",
    "        min_delay=1, # [ms]\n",
    "        max_delay=100) # [ms]\n",
    "\n",
    "simtime = 250 #ms"
   ]
  },
  {
   "cell_type": "code",
   "execution_count": 4,
   "metadata": {},
   "outputs": [],
   "source": [
    "# defining the network\n",
    "\n",
    "pops = {}\n",
    "n_cells = {}\n",
    "neuron_Model = {}\n",
    "neuron_ModelPars = {}\n",
    "initial_Values = {}\n",
    "\n",
    "for popName in ['network']:\n",
    "    n_cells[popName] = 100\n",
    "    neuron_Model[popName] = sim.IF_cond_exp\n",
    "    neuron_ModelPars[popName] = sim.IF_cond_exp.default_parameters # or standard_pars or testing_pars\n",
    "    initial_Values[popName] = sim.IF_cond_exp.default_initial_values\n",
    "    pops[popName] = sim.Population(n_cells[popName], \n",
    "                                   neuron_Model[popName],\n",
    "                                   neuron_ModelPars[popName],\n",
    "                                   structure = space.Line(dx=1.0, x0=0.0, y=0.0, z=0.0),\n",
    "                                   label = popName)\n",
    "\n",
    "    pops[popName].record(['spikes','v','gsyn_exc','gsyn_inh'])   \n",
    " \n"
   ]
  },
  {
   "cell_type": "code",
   "execution_count": 5,
   "metadata": {},
   "outputs": [
    {
     "data": {
      "text/plain": [
       "array([40, 41, 42, 43, 44, 45, 46, 47, 48, 49, 50, 51, 52, 53, 54, 55, 56,\n",
       "       57, 58, 59])"
      ]
     },
     "execution_count": 5,
     "metadata": {},
     "output_type": "execute_result"
    },
    {
     "data": {
      "image/png": "[encoded data removed]",
      "text/plain": [
       "<Figure size 432x288 with 1 Axes>"
      ]
     },
     "metadata": {
      "needs_background": "light"
     },
     "output_type": "display_data"
    }
   ],
   "source": [
    "# make the thalamic input sources\n",
    "\n",
    "popName = 'Thalamus'  \n",
    "\n",
    "n_cells[popName] = n_cells['network']\n",
    "spike_times = [[]]*n_cells[popName] #list of spike lists, where one spike list is related to one spike source\n",
    "#random_sources_idx = [np.random.randint(n_cells[popName]*0.40, n_cells[popName]*0.60) for i in range(n_cells[popName])]\n",
    "random_sources_idx = np.arange(int(n_cells[popName]*0.40), int(n_cells[popName]*0.60))\n",
    "\n",
    "for idx, sources in enumerate(random_sources_idx):\n",
    "    spike_times[sources] = np.sort([abs(np.random.normal(loc=50, scale=10)) for n in range(5)])\n",
    "\n",
    "neuron_Model[popName] = sim.SpikeSourceArray(spike_times)\n",
    "\n",
    "\n",
    "pops[popName] = sim.Population(n_cells[popName], \n",
    "                               neuron_Model[popName],\n",
    "                               structure = space.Line(dx=1.0, x0=0.0, y=0.0, z=0.0),\n",
    "                               label = popName)\n",
    "\n",
    "proj = {}\n",
    "proj['Thalamus', 'network'] = sim.Projection(pops['Thalamus'], \n",
    "                                         pops['network'],\n",
    "                                         connector = sim.OneToOneConnector(),\n",
    "                                         synapse_type = sim.StaticSynapse(weight=0.08, delay=1),\n",
    "                                         space = space.Space(axes = 'x'),\n",
    "                                         receptor_type = 'excitatory',\n",
    "                                         label = 'thalamus-network connections')\n",
    "\n",
    "fig, axes = plt.subplots(1,1)\n",
    "axes_list = fig.axes\n",
    "axes_list[0].eventplot(spike_times)\n",
    "axes_list[0].set_xlabel('[ms]')\n",
    "axes_list[0].set_ylabel('thalamic spike sources')\n",
    "axes_list[0].set_title('rasterplot of spike sources')\n",
    "axes_list[0].set_xlim(0, simtime)\n",
    "\n",
    "random_sources_idx"
   ]
  },
  {
   "cell_type": "code",
   "execution_count": 6,
   "metadata": {},
   "outputs": [
    {
     "name": "stderr",
     "output_type": "stream",
     "text": [
      "2023-03-17 09:58:42 INFO: Simulating for 250 1.0ms timesteps using a hardware timestep of 1000us\n",
      "2023-03-17 09:58:42 INFO: Starting execution process\n",
      "2023-03-17 09:58:45 INFO: Time 0:00:03.220681 taken by SpallocMaxMachineGenerator\n",
      "Pre allocating resources for Extra Monitor support vertices\n",
      "|0%                          50%                         100%|\n",
      " ============================================================\n",
      "2023-03-17 09:58:54 INFO: Time 0:00:09.084090 taken by PreAllocateResourcesForExtraMonitorSupport\n",
      "Partitioning graph vertices\n",
      "|0%                          50%                         100%|\n",
      " ============================================================\n",
      "Partitioning graph edges\n",
      "|0%                          50%                         100%|\n",
      " ============================================================\n",
      "2023-03-17 09:58:59 INFO: Time 0:00:05.152755 taken by PartitionAndPlacePartitioner\n",
      "Created spalloc job 7076699\n",
      "2023-03-17 09:58:59 INFO: Created spalloc job 7076699\n",
      "Waiting for board power commands to complete.\n",
      "2023-03-17 09:58:59 INFO: Waiting for board power commands to complete.\n",
      "2023-03-17 09:59:08 INFO: Time 0:00:08.938656 taken by SpallocAllocator\n",
      "2023-03-17 09:59:08 INFO: Creating transceiver for 10.11.194.1\n",
      "2023-03-17 09:59:08 INFO: Working out if machine is booted\n",
      "2023-03-17 09:59:12 INFO: Attempting to boot machine\n",
      "2023-03-17 09:59:18 INFO: Found board with version [Version: SC&MP 3.2.5 at SpiNNaker:0:0:0 (built Thu Aug  1 08:15:06 2019)]\n",
      "2023-03-17 09:59:18 INFO: Machine communication successful\n",
      "2023-03-17 09:59:18 INFO: Detected a machine on IP address 10.11.194.1 which has 837 cores and 114.0 links\n",
      "2023-03-17 09:59:18 INFO: Time 0:00:09.631610 taken by MachineGenerator\n",
      "Generating partitioner report\n",
      "|0%                          50%                         100%|\n",
      " ============================================================\n",
      "2023-03-17 09:59:18 INFO: Time 0:00:00.009225 taken by PartitionerReport\n",
      "2023-03-17 09:59:18 INFO: Time 0:00:00.000399 taken by NetworkSpecificationReport\n",
      "Allocating virtual identifiers\n",
      "|0%                          50%                         100%|\n",
      " ============================================================\n",
      "2023-03-17 09:59:18 INFO: Time 0:00:00.024809 taken by MallocBasedChipIDAllocator\n",
      "Inserting extra monitors into graphs\n",
      "|0%                          50%                         100%|\n",
      " ============================================================\n",
      "2023-03-17 09:59:18 INFO: Time 0:00:00.034881 taken by InsertExtraMonitorVerticesToGraphs\n",
      "Writing the board chip report\n",
      "|0%                          50%                         100%|\n",
      " ============================================================\n",
      "2023-03-17 09:59:18 INFO: Time 0:00:00.014694 taken by BoardChipReport\n",
      "Filtering edges\n",
      "|0%                          50%                         100%|\n",
      " ============================================================\n",
      "2023-03-17 09:59:18 INFO: Time 0:00:00.027892 taken by GraphEdgeFilter\n",
      "Placing graph vertices\n",
      "|0%                          50%                         100%|\n",
      " ============================================================\n",
      "2023-03-17 09:59:18 INFO: Time 0:00:00.033712 taken by OneToOnePlacer\n",
      "Inserting edges between vertices which require FR speed up functionality.\n",
      "|0%                          50%                         100%|\n",
      " ============================================================\n",
      "2023-03-17 09:59:18 INFO: Time 0:00:00.059476 taken by InsertEdgesToExtraMonitorFunctionality\n",
      "Generating routing tables for data in system processes\n",
      "|0%                          50%                         100%|\n",
      " ============================================================\n",
      "2023-03-17 09:59:18 INFO: Time 0:00:00.007030 taken by DataInMulticastRoutingGenerator\n",
      "Generating fixed router routes\n",
      "|0%                          50%                         100%|\n",
      " ============================================================\n",
      "2023-03-17 09:59:18 INFO: Time 0:00:00.005945 taken by FixedRouteRouter\n",
      "Generating placement report\n",
      "|0%                          50%                         100%|\n",
      " ============================================================\n",
      "Generating placement by core report\n",
      "|0%                          50%                         100%|\n",
      " ============================================================\n",
      "2023-03-17 09:59:18 INFO: Time 0:00:00.069434 taken by PlacerReportWithApplicationGraph\n",
      "Routing\n",
      "|0%                          50%                         100%|\n",
      " ============================================================\n",
      "\n",
      "2023-03-17 09:59:18 INFO: Time 0:00:00.034995 taken by NerRoute\n",
      "Discovering tags\n",
      "|0%                          50%                         100%|\n",
      " ============================================================\n",
      "Allocating tags\n",
      "|0%                          50%                         100%|\n",
      " ============================================================\n",
      "2023-03-17 09:59:18 INFO: Time 0:00:00.050951 taken by BasicTagAllocator\n",
      "Reporting Tags\n",
      "|0%                          50%                         100%|\n",
      " ============================================================\n",
      "2023-03-17 09:59:18 INFO: Time 0:00:00.005485 taken by TagReport\n",
      "Getting number of keys required by each edge using application graph\n",
      "|0%                          50%                         100%|\n",
      " ============================================================\n",
      "2023-03-17 09:59:18 INFO: Time 0:00:00.025503 taken by EdgeToNKeysMapper\n",
      "Getting constraints for application graph\n",
      "|0%                          50%                         100%|\n",
      " ============================================================\n",
      "2023-03-17 09:59:18 INFO: Time 0:00:00.024377 taken by ProcessPartitionConstraints\n",
      "Allocating routing keys\n",
      "|0%                          50%                         100%|\n",
      " ============================================================\n",
      "2023-03-17 09:59:18 INFO: Time 0:00:00.009269 taken by MallocBasedRoutingInfoAllocator\n",
      "Generating Routing info report\n",
      "|0%                          50%                         100%|\n",
      " ============================================================\n",
      "2023-03-17 09:59:18 INFO: Time 0:00:00.042028 taken by routingInfoReports\n",
      "Generating routing tables\n",
      "|0%                          50%                         100%|\n",
      " ============================================================\n",
      "2023-03-17 09:59:18 INFO: Time 0:00:00.023231 taken by BasicRoutingTableGenerator\n",
      "Finding executable start types\n",
      "|0%                          50%                         100%|\n",
      " ============================================================\n",
      "2023-03-17 09:59:18 INFO: Time 0:00:00.026787 taken by LocateExecutableStartType\n",
      "Initialising buffers\n",
      "|0%                          50%                         100%|\n",
      " ============================================================\n",
      "2023-03-17 09:59:18 INFO: Time 0:00:00.032657 taken by BufferManagerCreator\n",
      "Generating data specifications\n",
      "|0%                          50%                         100%|\n",
      " ============================================================\n",
      "2023-03-17 09:59:18 INFO: Time 0:00:00.084648 taken by SpynnakerDataSpecificationWriter\n",
      "Preparing Routing Tables\n",
      "|0%                          50%                         100%|\n",
      " ============================================================\n",
      "2023-03-17 09:59:18 INFO: Time 0:00:00.014016 taken by RoutingSetup\n",
      "Finding binaries\n",
      "|0%                          50%                         100%|\n",
      " ============================================================\n",
      "2023-03-17 09:59:18 INFO: Time 0:00:00.035977 taken by GraphBinaryGatherer\n",
      "Running routing table compression on chip\n",
      "|0%                          50%                         100%|\n",
      " ============================================================\n",
      "2023-03-17 09:59:23 INFO: Time 0:00:04.520818 taken by MundyOnChipRouterCompression\n",
      "Generating Router table report\n",
      "|0%                          50%                         100%|\n",
      " ============================================================\n",
      "2023-03-17 09:59:23 INFO: Time 0:00:00.006382 taken by unCompressedRoutingTableReports\n",
      "loading fixed routes\n",
      "|0%                          50%                         100%|\n",
      " ============================================================\n",
      "2023-03-17 09:59:23 INFO: Time 0:00:00.049398 taken by LoadFixedRoutes\n",
      "Executing data specifications and loading data for system vertices\n",
      "|0%                          50%                         100%|\n",
      " ============================================================\n",
      "2023-03-17 09:59:23 INFO: Time 0:00:00.151222 taken by HostExecuteSystemDataSpecification\n",
      "Loading system executables onto the machine\n",
      "|0%                          50%                         100%|\n",
      " ============================================================\n",
      "2023-03-17 09:59:29 INFO: Time 0:00:05.721667 taken by LoadSystemExecutableImages\n",
      "Clearing tags\n",
      "|0%                          50%                         100%|\n",
      " ============================================================\n",
      "Loading Tags\n",
      "|0%                          50%                         100%|\n",
      " ============================================================\n",
      "2023-03-17 09:59:29 INFO: Time 0:00:00.021001 taken by TagsLoader\n",
      "Writing data\n",
      "|0%                          50%                         100%|\n",
      " ============================================================\n",
      "2023-03-17 09:59:29 INFO: Time 0:00:00.038856 taken by WriteMemoryIOData\n",
      "Executing data specifications and loading data for application vertices\n",
      "|0%                          50%                         100%|\n",
      " ============================================================\n",
      "2023-03-17 09:59:29 INFO: Time 0:00:00.150938 taken by HostExecuteApplicationDataSpecification\n",
      "Expanding Synapses\n",
      "|0%                          50%                         100%|\n",
      " ============================================================\n",
      "2023-03-17 09:59:30 INFO: Time 0:00:00.541108 taken by SynapseExpander\n",
      "Writing fixed route report\n",
      "|0%                          50%                         100%|\n",
      " ============================================================\n",
      "2023-03-17 09:59:30 INFO: Time 0:00:00.046549 taken by FixedRouteFromMachineReport\n",
      "Loading executables onto the machine\n",
      "|0%                          50%                         100%|\n",
      " ============================================================\n",
      "2023-03-17 09:59:36 INFO: Time 0:00:06.774829 taken by LoadApplicationExecutableImages\n",
      "Reading Routing Tables from Machine\n",
      "|0%                          50%                         100%|\n",
      " ============================================================\n",
      "2023-03-17 09:59:37 INFO: Time 0:00:00.016527 taken by RoutingTableFromMachineReport\n",
      "Generating compressed router table report\n",
      "|0%                          50%                         100%|\n",
      " ============================================================\n",
      "2023-03-17 09:59:37 INFO: Time 0:00:00.014052 taken by compressedRoutingTableReports\n",
      "Generating comparison of router table report\n",
      "|0%                          50%                         100%|\n",
      " ============================================================\n",
      "2023-03-17 09:59:37 INFO: Time 0:00:00.012777 taken by comparisonOfRoutingTablesReport\n",
      "2023-03-17 09:59:37 INFO: Running for 1 steps for a total of 250.0ms\n",
      "2023-03-17 09:59:37 INFO: Run 1 of 1\n",
      "Generating SDRAM usage report\n",
      "|0%                          50%                         100%|\n",
      " ============================================================\n",
      "2023-03-17 09:59:37 INFO: Time 0:00:00.062647 taken by SdramUsageReportPerChip\n",
      "Updating run time\n",
      "|0%                          50%                         100%|\n",
      " ============================================================\n",
      "2023-03-17 09:59:37 INFO: Time 0:00:00.027781 taken by ChipRuntimeUpdater\n",
      "2023-03-17 09:59:37 INFO: creating live event connection database in /home/spinnaker/CNT-2023/SpiNNaker/application_generated_data_files/2023-03-17-09-57-58-882124/run_1/input_output_database.db\n",
      "Creating graph description database\n",
      "|0%                          50%                         100%|\n",
      " ============================================================\n",
      "2023-03-17 09:59:37 INFO: Time 0:00:00.057501 taken by DatabaseInterface\n",
      "2023-03-17 09:59:37 INFO: ** Notifying external sources that the database is ready for reading **\n",
      "2023-03-17 09:59:37 INFO: Time 0:00:00.000872 taken by NotificationProtocol\n",
      "2023-03-17 09:59:37 INFO: *** Running simulation... *** \n",
      "Loading buffers\n",
      "|0%                          50%                         100%|\n",
      " ============================================================\n",
      "2023-03-17 09:59:37 INFO: ** Awaiting for a response from an external source to state its ready for the simulation to start **\n",
      "2023-03-17 09:59:37 INFO: ** Sending start / resume message to external sources to state the simulation has started or resumed. **\n",
      "2023-03-17 09:59:37 INFO: ** Awaiting for a response from an external source to state its ready for the simulation to start **\n",
      "2023-03-17 09:59:37 INFO: Application started; waiting 0.35s for it to stop\n",
      "2023-03-17 09:59:37 INFO: ** Sending pause / stop message to external sources to state the simulation has been paused or stopped. **\n",
      "2023-03-17 09:59:37 INFO: Time 0:00:00.447975 taken by ApplicationRunner\n",
      "Extracting buffers from the last run\n",
      "|0%                          50%                         100%|\n",
      " ============================================================\n",
      "2023-03-17 09:59:37 INFO: Time 0:00:00.169276 taken by BufferExtractor\n",
      "Getting provenance data from machine graph\n",
      "|0%                          50%                         100%|\n",
      " ============================================================\n",
      "Getting provenance data from application graph\n",
      "|0%                          50%                         100%|\n",
      " ============================================================\n",
      "2023-03-17 09:59:37 INFO: Time 0:00:00.067308 taken by GraphProvenanceGatherer\n",
      "Getting provenance data\n",
      "|0%                          50%                         100%|\n",
      " ============================================================\n",
      "2023-03-17 09:59:37 INFO: Time 0:00:00.025975 taken by PlacementsProvenanceGatherer\n",
      "Getting Router Provenance\n",
      "|0%                          50%                         100%|\n",
      " ============================================================\n",
      "2023-03-17 09:59:38 INFO: Time 0:00:00.298956 taken by RouterProvenanceGatherer\n",
      "Getting profile data\n",
      "|0%                          50%                         100%|\n",
      " ============================================================\n",
      "2023-03-17 09:59:38 INFO: Time 0:00:00.029282 taken by ProfileDataGatherer\n"
     ]
    },
    {
     "data": {
      "text/plain": [
       "250.0"
      ]
     },
     "execution_count": 6,
     "metadata": {},
     "output_type": "execute_result"
    }
   ],
   "source": [
    "# run simulation\n",
    "\n",
    "sim.run(simtime) "
   ]
  },
  {
   "cell_type": "code",
   "execution_count": 7,
   "metadata": {},
   "outputs": [
    {
     "name": "stderr",
     "output_type": "stream",
     "text": [
      "Getting spikes for network\n",
      "|0%                          50%                         100%|\n",
      " ============================================================\n",
      "Getting v for network\n",
      "|0%                          50%                         100%|\n",
      " ============================================================\n",
      "Getting gsyn_exc for network\n",
      "|0%                          50%                         100%|\n",
      " ============================================================\n",
      "Getting gsyn_inh for network\n",
      "|0%                          50%                         100%|\n",
      " ============================================================\n",
      "Getting spikes for network\n",
      "|0%                          50%                         100%|\n",
      " ============================================================\n",
      "Getting v for network\n",
      "|0%                          50%                         100%|\n",
      " ============================================================\n",
      "Getting gsyn_exc for network\n",
      "|0%                          50%                         100%|\n",
      " ============================================================\n",
      "Getting gsyn_inh for network\n",
      "|0%                          50%                         100%|\n",
      " ============================================================\n",
      "Getting spikes for network\n",
      "|0%                          50%                         100%|\n",
      " ============================================================\n",
      "Getting v for network\n",
      "|0%                          50%                         100%|\n",
      " ============================================================\n",
      "Getting gsyn_exc for network\n",
      "|0%                          50%                         100%|\n",
      " ============================================================\n",
      "Getting gsyn_inh for network\n",
      "|0%                          50%                         100%|\n",
      " ============================================================\n",
      "Getting spikes for network\n",
      "|0%                          50%                         100%|\n",
      " ============================================================\n",
      "Getting v for network\n",
      "|0%                          50%                         100%|\n",
      " ============================================================\n",
      "Getting gsyn_exc for network\n",
      "|0%                          50%                         100%|\n",
      " ============================================================\n",
      "Getting gsyn_inh for network\n",
      "|0%                          50%                         100%|\n",
      " ============================================================\n",
      "Getting spikes for network\n",
      "|0%                          50%                         100%|\n",
      " ============================================================\n",
      "Getting v for network\n",
      "|0%                          50%                         100%|\n",
      " ============================================================\n",
      "Getting gsyn_exc for network\n",
      "|0%                          50%                         100%|\n",
      " ============================================================\n",
      "Getting gsyn_inh for network\n",
      "|0%                          50%                         100%|\n",
      " ============================================================\n"
     ]
    }
   ],
   "source": [
    "# save the results\n",
    "outputs = {}\n",
    "\n",
    "for layer in ['network']:\n",
    "    outputs[layer] = pops[layer].get_data()\n",
    "    for recording in ['v', 'gsyn_inh', 'gsyn_exc', 'spikes']:\n",
    "        pops[layer].write_data(fileName + '_' + str(layer) + '_' + str(recording) + '.pkl')"
   ]
  },
  {
   "cell_type": "code",
   "execution_count": 8,
   "metadata": {},
   "outputs": [
    {
     "name": "stdout",
     "output_type": "stream",
     "text": [
      "v\n",
      "gsyn_exc\n",
      "gsyn_inh\n"
     ]
    },
    {
     "data": {
      "text/plain": [
       "dict_keys([('network', 'v'), ('network', 'gsyn_exc'), ('network', 'gsyn_inh'), ('network', 'spikes')])"
      ]
     },
     "execution_count": 8,
     "metadata": {},
     "output_type": "execute_result"
    }
   ],
   "source": [
    "# check results\n",
    "\n",
    "def recover_results(outputs):\n",
    "    results = {}\n",
    "    for key in outputs.keys(): # to extract the name of the layer, e.g., Exc, Inh, Thalamus, etc  \n",
    "        \n",
    "        # to get voltage and conductances\n",
    "        for analogsignal in outputs[key].segments[0].analogsignals:\n",
    "            print(analogsignal.name)\n",
    "            results[key, analogsignal.name] = analogsignal\n",
    "\n",
    "        # to get spikes\n",
    "        results[key, 'spikes'] = outputs[key].segments[0].spiketrains\n",
    "    return results\n",
    "\n",
    "results = recover_results(outputs)\n",
    "results.keys()"
   ]
  },
  {
   "cell_type": "code",
   "execution_count": 9,
   "metadata": {},
   "outputs": [
    {
     "data": {
      "image/png": "[encoded data removed]",
      "text/plain": [
       "<Figure size 432x288 with 1 Axes>"
      ]
     },
     "metadata": {
      "needs_background": "light"
     },
     "output_type": "display_data"
    }
   ],
   "source": [
    "# check the spikes\n",
    "\n",
    "fig, axes = plt.subplots(1, 1)\n",
    "fig.tight_layout(pad=5)\n",
    "axes_list = fig.axes\n",
    "\n",
    "for idx, value in enumerate(['network']):\n",
    "    axes_list[idx].eventplot(results[value, 'spikes'])\n",
    "    axes_list[idx].eventplot(spike_times, color='r')\n",
    "    axes_list[idx].set_title('rasterplot of ' + str(value) + ' layer')\n",
    "    axes_list[idx].set_xlabel('[ms]')\n",
    "    axes_list[idx].set_ylabel('cells')\n",
    "    axes_list[idx].set_xlim(0, simtime)\n"
   ]
  },
  {
   "cell_type": "code",
   "execution_count": 10,
   "metadata": {},
   "outputs": [
    {
     "data": {
      "image/png": "[encoded data removed]",
      "text/plain": [
       "<Figure size 648x648 with 2 Axes>"
      ]
     },
     "metadata": {
      "needs_background": "light"
     },
     "output_type": "display_data"
    }
   ],
   "source": [
    "# check the voltage\n",
    "\n",
    "fig, axes = plt.subplots(1, 1, figsize=(9,9))\n",
    "fig.tight_layout(pad=4)\n",
    "\n",
    "axes_list = fig.axes\n",
    "\n",
    "for idx, value in enumerate(['network']):\n",
    "    im = axes_list[idx].imshow(results[value, 'v'].T)\n",
    "    axes_list[idx].set_title('voltage of ' + str(value) + ' layer')\n",
    "    axes_list[idx].set_xlabel('time [ms]')\n",
    "    axes_list[idx].set_ylabel('cells')\n",
    "    axes_list[idx].set_xlim(0, simtime)\n",
    "    fig.colorbar(im, ax=axes_list[idx], fraction=0.010, label='[mV]')"
   ]
  },
  {
   "cell_type": "code",
   "execution_count": 13,
   "metadata": {},
   "outputs": [
    {
     "data": {
      "image/png": "[encoded data removed]",
      "text/plain": [
       "<Figure size 648x648 with 4 Axes>"
      ]
     },
     "metadata": {
      "needs_background": "light"
     },
     "output_type": "display_data"
    }
   ],
   "source": [
    "# check the conductances\n",
    "\n",
    "# check the voltage\n",
    "\n",
    "fig, axes = plt.subplots(2, 1, figsize=(9,9))\n",
    "fig.tight_layout(pad=4)\n",
    "\n",
    "axes_list = fig.axes\n",
    "\n",
    "for idx, value in enumerate(['network']):\n",
    "    for idx, gsyn in enumerate(['gsyn_exc', 'gsyn_inh']):\n",
    "        im = axes_list[idx].imshow(results['network', gsyn].T)\n",
    "        axes_list[idx].set_title(str(gsyn))\n",
    "        axes_list[idx].set_xlabel('time [ms]')\n",
    "        axes_list[idx].set_ylabel('cells')\n",
    "        axes_list[idx].set_xlim(0, simtime)\n",
    "        fig.colorbar(im, ax=axes_list[idx], fraction=0.010, label='[uS]')"
   ]
  },
  {
   "cell_type": "code",
   "execution_count": 12,
   "metadata": {},
   "outputs": [],
   "source": [
    "# end simulation\n",
    "\n",
    "sim.end()"
   ]
  },
  {
   "cell_type": "code",
   "execution_count": null,
   "metadata": {},
   "outputs": [],
   "source": []
  },
  {
   "cell_type": "code",
   "execution_count": null,
   "metadata": {},
   "outputs": [],
   "source": []
  }
 ],
 "metadata": {
  "kernelspec": {
   "display_name": "sPyNNaker",
   "language": "python",
   "name": "spynnaker"
  },
  "language_info": {
   "codemirror_mode": {
    "name": "ipython",
    "version": 3
   },
   "file_extension": ".py",
   "mimetype": "text/x-python",
   "name": "python",
   "nbconvert_exporter": "python",
   "pygments_lexer": "ipython3",
   "version": "3.6.9"
  }
 },
 "nbformat": 4,
 "nbformat_minor": 4
}
